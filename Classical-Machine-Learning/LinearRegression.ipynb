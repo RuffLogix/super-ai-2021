{
  "nbformat": 4,
  "nbformat_minor": 0,
  "metadata": {
    "colab": {
      "name": "LinearRegression",
      "provenance": [],
      "collapsed_sections": []
    },
    "kernelspec": {
      "name": "python3",
      "display_name": "Python 3"
    },
    "language_info": {
      "name": "python"
    }
  },
  "cells": [
    {
      "cell_type": "markdown",
      "metadata": {
        "id": "d5NYJR8eg1_E"
      },
      "source": [
        "# Linear Regression"
      ]
    },
    {
      "cell_type": "markdown",
      "metadata": {
        "id": "Uz1Ur49nhCWN"
      },
      "source": [
        "## Setup"
      ]
    },
    {
      "cell_type": "code",
      "metadata": {
        "id": "mpcPdWxNg9Ul"
      },
      "source": [
        "import numpy as np\n",
        "import matplotlib.pyplot as plt "
      ],
      "execution_count": 2,
      "outputs": []
    },
    {
      "cell_type": "markdown",
      "metadata": {
        "id": "IuDBsUhVhLDv"
      },
      "source": [
        "## Prepare Data"
      ]
    },
    {
      "cell_type": "code",
      "metadata": {
        "colab": {
          "base_uri": "https://localhost:8080/",
          "height": 265
        },
        "id": "JkVta_u5hNC_",
        "outputId": "24d17844-2c52-4631-c739-c9801177682c"
      },
      "source": [
        "n = 10\n",
        "x = np.array([i for i in range(n)])\n",
        "y = x + 2*np.random.rand(n)\n",
        "\n",
        "y = np.reshape(y , [-1 , 1])\n",
        "x = np.array([x , np.ones(n)]).T\n",
        "\n",
        "plt.plot(x.T[0],y,'.r')\n",
        "plt.show()"
      ],
      "execution_count": 31,
      "outputs": [
        {
          "output_type": "display_data",
          "data": {
            "image/png": "[encoded data removed]",
            "text/plain": [
              "<Figure size 432x288 with 1 Axes>"
            ]
          },
          "metadata": {
            "needs_background": "light"
          }
        }
      ]
    },
    {
      "cell_type": "markdown",
      "metadata": {
        "id": "c2RIvGtjhpih"
      },
      "source": [
        "## Model training"
      ]
    },
    {
      "cell_type": "code",
      "metadata": {
        "id": "xqOS3j3UhcCo"
      },
      "source": [
        "#weight = w\n",
        "w = np.array([1.,1.])\n",
        "\n",
        "w = np.reshape(w , [-1,2])"
      ],
      "execution_count": 95,
      "outputs": []
    },
    {
      "cell_type": "code",
      "metadata": {
        "id": "RChv4yHLiEMT",
        "colab": {
          "base_uri": "https://localhost:8080/"
        },
        "outputId": "f8de2074-2c89-4215-db13-8eb3076f7d24"
      },
      "source": [
        "epochs = 100\n",
        "eps = 0.000001\n",
        "for i in range(epochs) :\n",
        "  w[0][0] = w[0][0] - (eps * -1 * np.sum((y - x@w.T) * x[0]))\n",
        "  w[0][1] = w[0][1] - (eps * -1 * np.sum(y - x@w.T))\n",
        "\n",
        "print(w)"
      ],
      "execution_count": 98,
      "outputs": [
        {
          "output_type": "stream",
          "name": "stdout",
          "text": [
            "[[0.97397943 0.97515031]]\n"
          ]
        }
      ]
    },
    {
      "cell_type": "code",
      "metadata": {
        "colab": {
          "base_uri": "https://localhost:8080/",
          "height": 265
        },
        "id": "N0xHXDD2Wf9j",
        "outputId": "d46e3800-92db-4e39-f3ed-74c09a1f8ab9"
      },
      "source": [
        "plt.plot(x.T[0],y,'.r')\n",
        "plt.plot(x.T[0],x@w.T,'-b')\n",
        "plt.show()"
      ],
      "execution_count": 100,
      "outputs": [
        {
          "output_type": "display_data",
          "data": {
            "image/png": "[encoded data removed]",
            "text/plain": [
              "<Figure size 432x288 with 1 Axes>"
            ]
          },
          "metadata": {
            "needs_background": "light"
          }
        }
      ]
    }
  ]
}