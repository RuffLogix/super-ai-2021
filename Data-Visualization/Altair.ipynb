{
  "nbformat": 4,
  "nbformat_minor": 0,
  "metadata": {
    "colab": {
      "name": "Altair",
      "provenance": [],
      "collapsed_sections": []
    },
    "kernelspec": {
      "name": "python3",
      "display_name": "Python 3"
    },
    "language_info": {
      "name": "python"
    }
  },
  "cells": [
    {
      "cell_type": "markdown",
      "metadata": {
        "id": "qYmnZJFKYeK-"
      },
      "source": [
        "# Data visualization"
      ]
    },
    {
      "cell_type": "markdown",
      "metadata": {
        "id": "Mmm14CdjbnEL"
      },
      "source": [
        "## Prepare Data"
      ]
    },
    {
      "cell_type": "code",
      "metadata": {
        "id": "tCLirwxWbmXd"
      },
      "source": [
        "from sklearn.datasets import load_iris\n",
        "\n",
        "data = load_iris()\n",
        "raw_data = np.array(data['data']).T\n",
        "\n",
        "label_data = []\n",
        "label_name = ['setosa', 'versicolor', 'virginica']\n",
        "\n",
        "for i in data['target']:\n",
        "  label_data.append(label_name[i])\n",
        "\n",
        "data = {\n",
        "    'petal_length' : raw_data[0] ,\n",
        "    'petal_width' : raw_data[1] ,\n",
        "    'sepal_length' : raw_data[2] ,\n",
        "    'sepal_width' : raw_data[3] ,\n",
        "    'target' : label_data\n",
        "}\n",
        "\n",
        "data = pd.DataFrame(data)"
      ],
      "execution_count": 66,
      "outputs": []
    },
    {
      "cell_type": "markdown",
      "metadata": {
        "id": "NcD4qhW2UmcG"
      },
      "source": [
        "## Altair Library"
      ]
    },
    {
      "cell_type": "code",
      "metadata": {
        "colab": {
          "base_uri": "https://localhost:8080/",
          "height": 368
        },
        "id": "SJNylk1FUlwg",
        "outputId": "ff44df06-f3f4-4d58-9371-05d485033bb6"
      },
      "source": [
        "import altair as alt\n",
        "import pandas as pd\n",
        "import numpy as np\n",
        "\n",
        "alt.Chart(data).mark_point().encode(\n",
        "  alt.X('sepal_length') ,\n",
        "  alt.Y('petal_length') ,\n",
        "  alt.Color('target') , \n",
        "  tooltip = [alt.Tooltip('target') , \n",
        "             alt.Tooltip('sepal_width') , \n",
        "             alt.Tooltip('petal_width')]\n",
        ")"
      ],
      "execution_count": 55,
      "outputs": [
        {
          "output_type": "execute_result",
          "data": {
            "text/plain": [
              "alt.Chart(...)"
            ],
            "text/html": [
              "\n",
              "<div id=\"altair-viz-10917138455d493ba565dd13e0f20a59\"></div>\n",
              "<script type=\"text/javascript\">\n",
              "  (function(spec, embedOpt){\n",
              "    let outputDiv = document.currentScript.previousElementSibling;\n",
              "    if (outputDiv.id !== \"altair-viz-10917138455d493ba565dd13e0f20a59\") {\n",
              "      outputDiv = document.getElementById(\"altair-viz-10917138455d493ba565dd13e0f20a59\");\n",
              "    }\n",
              "    const paths = {\n",
              "      \"vega\": \"https://cdn.jsdelivr.net/npm//vega@5?noext\",\n",
              "      \"vega-lib\": \"https://cdn.jsdelivr.net/npm//vega-lib?noext\",\n",
              "      \"vega-lite\": \"https://cdn.jsdelivr.net/npm//vega-lite@4.8.1?noext\",\n",
              "      \"vega-embed\": \"https://cdn.jsdelivr.net/npm//vega-embed@6?noext\",\n",
              "    };\n",
              "\n",
              "    function loadScript(lib) {\n",
              "      return new Promise(function(resolve, reject) {\n",
              "        var s = document.createElement('script');\n",
              "        s.src = paths[lib];\n",
              "        s.async = true;\n",
              "        s.onload = () => resolve(paths[lib]);\n",
              "        s.onerror = () => reject(`Error loading script: ${paths[lib]}`);\n",
              "        document.getElementsByTagName(\"head\")[0].appendChild(s);\n",
              "      });\n",
              "    }\n",
              "\n",
              "    function showError(err) {\n",
              "      outputDiv.innerHTML = `<div class=\"error\" style=\"color:red;\">${err}</div>`;\n",
              "      throw err;\n",
              "    }\n",
              "\n",
              "    function displayChart(vegaEmbed) {\n",
              "      vegaEmbed(outputDiv, spec, embedOpt)\n",
              "        .catch(err => showError(`Javascript Error: ${err.message}<br>This usually means there's a typo in your chart specification. See the javascript console for the full traceback.`));\n",
              "    }\n",
              "\n",
              "    if(typeof define === \"function\" && define.amd) {\n",
              "      requirejs.config({paths});\n",
              "      require([\"vega-embed\"], displayChart, err => showError(`Error loading script: ${err.message}`));\n",
              "    } else if (typeof vegaEmbed === \"function\") {\n",
              "      displayChart(vegaEmbed);\n",
              "    } else {\n",
              "      loadScript(\"vega\")\n",
              "        .then(() => loadScript(\"vega-lite\"))\n",
              "        .then(() => loadScript(\"vega-embed\"))\n",
              "        .catch(showError)\n",
              "        .then(() => displayChart(vegaEmbed));\n",
              "    }\n",
              "  })({\"config\": {\"view\": {\"continuousWidth\": 400, \"continuousHeight\": 300}}, \"data\": {\"name\": \"data-46d15b0a5a50fdcbfef17c9f182819de\"}, \"mark\": \"point\", \"encoding\": {\"color\": {\"type\": \"nominal\", \"field\": \"target\"}, \"tooltip\": [{\"type\": \"nominal\", \"field\": \"target\"}, {\"type\": \"quantitative\", \"field\": \"sepal_width\"}, {\"type\": \"quantitative\", \"field\": \"petal_width\"}], \"x\": {\"type\": \"quantitative\", \"field\": \"sepal_length\"}, \"y\": {\"type\": \"quantitative\", \"field\": \"petal_length\"}}, \"$schema\": \"https://vega.github.io/schema/vega-lite/v4.8.1.json\", \"datasets\": {\"data-46d15b0a5a50fdcbfef17c9f182819de\": [{\"petal_length\": 5.1, \"petal_width\": 3.5, \"sepal_length\": 1.4, \"sepal_width\": 0.2, \"target\": \"setosa\"}, {\"petal_length\": 4.9, \"petal_width\": 3.0, \"sepal_length\": 1.4, \"sepal_width\": 0.2, \"target\": \"setosa\"}, {\"petal_length\": 4.7, \"petal_width\": 3.2, \"sepal_length\": 1.3, \"sepal_width\": 0.2, \"target\": \"setosa\"}, {\"petal_length\": 4.6, \"petal_width\": 3.1, \"sepal_length\": 1.5, \"sepal_width\": 0.2, \"target\": \"setosa\"}, {\"petal_length\": 5.0, \"petal_width\": 3.6, \"sepal_length\": 1.4, \"sepal_width\": 0.2, \"target\": \"setosa\"}, {\"petal_length\": 5.4, \"petal_width\": 3.9, \"sepal_length\": 1.7, \"sepal_width\": 0.4, \"target\": \"setosa\"}, {\"petal_length\": 4.6, \"petal_width\": 3.4, \"sepal_length\": 1.4, \"sepal_width\": 0.3, \"target\": \"setosa\"}, {\"petal_length\": 5.0, \"petal_width\": 3.4, \"sepal_length\": 1.5, \"sepal_width\": 0.2, \"target\": \"setosa\"}, {\"petal_length\": 4.4, \"petal_width\": 2.9, \"sepal_length\": 1.4, \"sepal_width\": 0.2, \"target\": \"setosa\"}, {\"petal_length\": 4.9, \"petal_width\": 3.1, \"sepal_length\": 1.5, \"sepal_width\": 0.1, \"target\": \"setosa\"}, {\"petal_length\": 5.4, \"petal_width\": 3.7, \"sepal_length\": 1.5, \"sepal_width\": 0.2, \"target\": \"setosa\"}, {\"petal_length\": 4.8, \"petal_width\": 3.4, \"sepal_length\": 1.6, \"sepal_width\": 0.2, \"target\": \"setosa\"}, {\"petal_length\": 4.8, \"petal_width\": 3.0, \"sepal_length\": 1.4, \"sepal_width\": 0.1, \"target\": \"setosa\"}, {\"petal_length\": 4.3, \"petal_width\": 3.0, \"sepal_length\": 1.1, \"sepal_width\": 0.1, \"target\": \"setosa\"}, {\"petal_length\": 5.8, \"petal_width\": 4.0, \"sepal_length\": 1.2, \"sepal_width\": 0.2, \"target\": \"setosa\"}, {\"petal_length\": 5.7, \"petal_width\": 4.4, \"sepal_length\": 1.5, \"sepal_width\": 0.4, \"target\": \"setosa\"}, {\"petal_length\": 5.4, \"petal_width\": 3.9, \"sepal_length\": 1.3, \"sepal_width\": 0.4, \"target\": \"setosa\"}, {\"petal_length\": 5.1, \"petal_width\": 3.5, \"sepal_length\": 1.4, \"sepal_width\": 0.3, \"target\": \"setosa\"}, {\"petal_length\": 5.7, \"petal_width\": 3.8, \"sepal_length\": 1.7, \"sepal_width\": 0.3, \"target\": \"setosa\"}, {\"petal_length\": 5.1, \"petal_width\": 3.8, \"sepal_length\": 1.5, \"sepal_width\": 0.3, \"target\": \"setosa\"}, {\"petal_length\": 5.4, \"petal_width\": 3.4, \"sepal_length\": 1.7, \"sepal_width\": 0.2, \"target\": \"setosa\"}, {\"petal_length\": 5.1, \"petal_width\": 3.7, \"sepal_length\": 1.5, \"sepal_width\": 0.4, \"target\": \"setosa\"}, {\"petal_length\": 4.6, \"petal_width\": 3.6, \"sepal_length\": 1.0, \"sepal_width\": 0.2, \"target\": \"setosa\"}, {\"petal_length\": 5.1, \"petal_width\": 3.3, \"sepal_length\": 1.7, \"sepal_width\": 0.5, \"target\": \"setosa\"}, {\"petal_length\": 4.8, \"petal_width\": 3.4, \"sepal_length\": 1.9, \"sepal_width\": 0.2, \"target\": \"setosa\"}, {\"petal_length\": 5.0, \"petal_width\": 3.0, \"sepal_length\": 1.6, \"sepal_width\": 0.2, \"target\": \"setosa\"}, {\"petal_length\": 5.0, \"petal_width\": 3.4, \"sepal_length\": 1.6, \"sepal_width\": 0.4, \"target\": \"setosa\"}, {\"petal_length\": 5.2, \"petal_width\": 3.5, \"sepal_length\": 1.5, \"sepal_width\": 0.2, \"target\": \"setosa\"}, {\"petal_length\": 5.2, \"petal_width\": 3.4, \"sepal_length\": 1.4, \"sepal_width\": 0.2, \"target\": \"setosa\"}, {\"petal_length\": 4.7, \"petal_width\": 3.2, \"sepal_length\": 1.6, \"sepal_width\": 0.2, \"target\": \"setosa\"}, {\"petal_length\": 4.8, \"petal_width\": 3.1, \"sepal_length\": 1.6, \"sepal_width\": 0.2, \"target\": \"setosa\"}, {\"petal_length\": 5.4, \"petal_width\": 3.4, \"sepal_length\": 1.5, \"sepal_width\": 0.4, \"target\": \"setosa\"}, {\"petal_length\": 5.2, \"petal_width\": 4.1, \"sepal_length\": 1.5, \"sepal_width\": 0.1, \"target\": \"setosa\"}, {\"petal_length\": 5.5, \"petal_width\": 4.2, \"sepal_length\": 1.4, \"sepal_width\": 0.2, \"target\": \"setosa\"}, {\"petal_length\": 4.9, \"petal_width\": 3.1, \"sepal_length\": 1.5, \"sepal_width\": 0.2, \"target\": \"setosa\"}, {\"petal_length\": 5.0, \"petal_width\": 3.2, \"sepal_length\": 1.2, \"sepal_width\": 0.2, \"target\": \"setosa\"}, {\"petal_length\": 5.5, \"petal_width\": 3.5, \"sepal_length\": 1.3, \"sepal_width\": 0.2, \"target\": \"setosa\"}, {\"petal_length\": 4.9, \"petal_width\": 3.6, \"sepal_length\": 1.4, \"sepal_width\": 0.1, \"target\": \"setosa\"}, {\"petal_length\": 4.4, \"petal_width\": 3.0, \"sepal_length\": 1.3, \"sepal_width\": 0.2, \"target\": \"setosa\"}, {\"petal_length\": 5.1, \"petal_width\": 3.4, \"sepal_length\": 1.5, \"sepal_width\": 0.2, \"target\": \"setosa\"}, {\"petal_length\": 5.0, \"petal_width\": 3.5, \"sepal_length\": 1.3, \"sepal_width\": 0.3, \"target\": \"setosa\"}, {\"petal_length\": 4.5, \"petal_width\": 2.3, \"sepal_length\": 1.3, \"sepal_width\": 0.3, \"target\": \"setosa\"}, {\"petal_length\": 4.4, \"petal_width\": 3.2, \"sepal_length\": 1.3, \"sepal_width\": 0.2, \"target\": \"setosa\"}, {\"petal_length\": 5.0, \"petal_width\": 3.5, \"sepal_length\": 1.6, \"sepal_width\": 0.6, \"target\": \"setosa\"}, {\"petal_length\": 5.1, \"petal_width\": 3.8, \"sepal_length\": 1.9, \"sepal_width\": 0.4, \"target\": \"setosa\"}, {\"petal_length\": 4.8, \"petal_width\": 3.0, \"sepal_length\": 1.4, \"sepal_width\": 0.3, \"target\": \"setosa\"}, {\"petal_length\": 5.1, \"petal_width\": 3.8, \"sepal_length\": 1.6, \"sepal_width\": 0.2, \"target\": \"setosa\"}, {\"petal_length\": 4.6, \"petal_width\": 3.2, \"sepal_length\": 1.4, \"sepal_width\": 0.2, \"target\": \"setosa\"}, {\"petal_length\": 5.3, \"petal_width\": 3.7, \"sepal_length\": 1.5, \"sepal_width\": 0.2, \"target\": \"setosa\"}, {\"petal_length\": 5.0, \"petal_width\": 3.3, \"sepal_length\": 1.4, \"sepal_width\": 0.2, \"target\": \"setosa\"}, {\"petal_length\": 7.0, \"petal_width\": 3.2, \"sepal_length\": 4.7, \"sepal_width\": 1.4, \"target\": \"versicolor\"}, {\"petal_length\": 6.4, \"petal_width\": 3.2, \"sepal_length\": 4.5, \"sepal_width\": 1.5, \"target\": \"versicolor\"}, {\"petal_length\": 6.9, \"petal_width\": 3.1, \"sepal_length\": 4.9, \"sepal_width\": 1.5, \"target\": \"versicolor\"}, {\"petal_length\": 5.5, \"petal_width\": 2.3, \"sepal_length\": 4.0, \"sepal_width\": 1.3, \"target\": \"versicolor\"}, {\"petal_length\": 6.5, \"petal_width\": 2.8, \"sepal_length\": 4.6, \"sepal_width\": 1.5, \"target\": \"versicolor\"}, {\"petal_length\": 5.7, \"petal_width\": 2.8, \"sepal_length\": 4.5, \"sepal_width\": 1.3, \"target\": \"versicolor\"}, {\"petal_length\": 6.3, \"petal_width\": 3.3, \"sepal_length\": 4.7, \"sepal_width\": 1.6, \"target\": \"versicolor\"}, {\"petal_length\": 4.9, \"petal_width\": 2.4, \"sepal_length\": 3.3, \"sepal_width\": 1.0, \"target\": \"versicolor\"}, {\"petal_length\": 6.6, \"petal_width\": 2.9, \"sepal_length\": 4.6, \"sepal_width\": 1.3, \"target\": \"versicolor\"}, {\"petal_length\": 5.2, \"petal_width\": 2.7, \"sepal_length\": 3.9, \"sepal_width\": 1.4, \"target\": \"versicolor\"}, {\"petal_length\": 5.0, \"petal_width\": 2.0, \"sepal_length\": 3.5, \"sepal_width\": 1.0, \"target\": \"versicolor\"}, {\"petal_length\": 5.9, \"petal_width\": 3.0, \"sepal_length\": 4.2, \"sepal_width\": 1.5, \"target\": \"versicolor\"}, {\"petal_length\": 6.0, \"petal_width\": 2.2, \"sepal_length\": 4.0, \"sepal_width\": 1.0, \"target\": \"versicolor\"}, {\"petal_length\": 6.1, \"petal_width\": 2.9, \"sepal_length\": 4.7, \"sepal_width\": 1.4, \"target\": \"versicolor\"}, {\"petal_length\": 5.6, \"petal_width\": 2.9, \"sepal_length\": 3.6, \"sepal_width\": 1.3, \"target\": \"versicolor\"}, {\"petal_length\": 6.7, \"petal_width\": 3.1, \"sepal_length\": 4.4, \"sepal_width\": 1.4, \"target\": \"versicolor\"}, {\"petal_length\": 5.6, \"petal_width\": 3.0, \"sepal_length\": 4.5, \"sepal_width\": 1.5, \"target\": \"versicolor\"}, {\"petal_length\": 5.8, \"petal_width\": 2.7, \"sepal_length\": 4.1, \"sepal_width\": 1.0, \"target\": \"versicolor\"}, {\"petal_length\": 6.2, \"petal_width\": 2.2, \"sepal_length\": 4.5, \"sepal_width\": 1.5, \"target\": \"versicolor\"}, {\"petal_length\": 5.6, \"petal_width\": 2.5, \"sepal_length\": 3.9, \"sepal_width\": 1.1, \"target\": \"versicolor\"}, {\"petal_length\": 5.9, \"petal_width\": 3.2, \"sepal_length\": 4.8, \"sepal_width\": 1.8, \"target\": \"versicolor\"}, {\"petal_length\": 6.1, \"petal_width\": 2.8, \"sepal_length\": 4.0, \"sepal_width\": 1.3, \"target\": \"versicolor\"}, {\"petal_length\": 6.3, \"petal_width\": 2.5, \"sepal_length\": 4.9, \"sepal_width\": 1.5, \"target\": \"versicolor\"}, {\"petal_length\": 6.1, \"petal_width\": 2.8, \"sepal_length\": 4.7, \"sepal_width\": 1.2, \"target\": \"versicolor\"}, {\"petal_length\": 6.4, \"petal_width\": 2.9, \"sepal_length\": 4.3, \"sepal_width\": 1.3, \"target\": \"versicolor\"}, {\"petal_length\": 6.6, \"petal_width\": 3.0, \"sepal_length\": 4.4, \"sepal_width\": 1.4, \"target\": \"versicolor\"}, {\"petal_length\": 6.8, \"petal_width\": 2.8, \"sepal_length\": 4.8, \"sepal_width\": 1.4, \"target\": \"versicolor\"}, {\"petal_length\": 6.7, \"petal_width\": 3.0, \"sepal_length\": 5.0, \"sepal_width\": 1.7, \"target\": \"versicolor\"}, {\"petal_length\": 6.0, \"petal_width\": 2.9, \"sepal_length\": 4.5, \"sepal_width\": 1.5, \"target\": \"versicolor\"}, {\"petal_length\": 5.7, \"petal_width\": 2.6, \"sepal_length\": 3.5, \"sepal_width\": 1.0, \"target\": \"versicolor\"}, {\"petal_length\": 5.5, \"petal_width\": 2.4, \"sepal_length\": 3.8, \"sepal_width\": 1.1, \"target\": \"versicolor\"}, {\"petal_length\": 5.5, \"petal_width\": 2.4, \"sepal_length\": 3.7, \"sepal_width\": 1.0, \"target\": \"versicolor\"}, {\"petal_length\": 5.8, \"petal_width\": 2.7, \"sepal_length\": 3.9, \"sepal_width\": 1.2, \"target\": \"versicolor\"}, {\"petal_length\": 6.0, \"petal_width\": 2.7, \"sepal_length\": 5.1, \"sepal_width\": 1.6, \"target\": \"versicolor\"}, {\"petal_length\": 5.4, \"petal_width\": 3.0, \"sepal_length\": 4.5, \"sepal_width\": 1.5, \"target\": \"versicolor\"}, {\"petal_length\": 6.0, \"petal_width\": 3.4, \"sepal_length\": 4.5, \"sepal_width\": 1.6, \"target\": \"versicolor\"}, {\"petal_length\": 6.7, \"petal_width\": 3.1, \"sepal_length\": 4.7, \"sepal_width\": 1.5, \"target\": \"versicolor\"}, {\"petal_length\": 6.3, \"petal_width\": 2.3, \"sepal_length\": 4.4, \"sepal_width\": 1.3, \"target\": \"versicolor\"}, {\"petal_length\": 5.6, \"petal_width\": 3.0, \"sepal_length\": 4.1, \"sepal_width\": 1.3, \"target\": \"versicolor\"}, {\"petal_length\": 5.5, \"petal_width\": 2.5, \"sepal_length\": 4.0, \"sepal_width\": 1.3, \"target\": \"versicolor\"}, {\"petal_length\": 5.5, \"petal_width\": 2.6, \"sepal_length\": 4.4, \"sepal_width\": 1.2, \"target\": \"versicolor\"}, {\"petal_length\": 6.1, \"petal_width\": 3.0, \"sepal_length\": 4.6, \"sepal_width\": 1.4, \"target\": \"versicolor\"}, {\"petal_length\": 5.8, \"petal_width\": 2.6, \"sepal_length\": 4.0, \"sepal_width\": 1.2, \"target\": \"versicolor\"}, {\"petal_length\": 5.0, \"petal_width\": 2.3, \"sepal_length\": 3.3, \"sepal_width\": 1.0, \"target\": \"versicolor\"}, {\"petal_length\": 5.6, \"petal_width\": 2.7, \"sepal_length\": 4.2, \"sepal_width\": 1.3, \"target\": \"versicolor\"}, {\"petal_length\": 5.7, \"petal_width\": 3.0, \"sepal_length\": 4.2, \"sepal_width\": 1.2, \"target\": \"versicolor\"}, {\"petal_length\": 5.7, \"petal_width\": 2.9, \"sepal_length\": 4.2, \"sepal_width\": 1.3, \"target\": \"versicolor\"}, {\"petal_length\": 6.2, \"petal_width\": 2.9, \"sepal_length\": 4.3, \"sepal_width\": 1.3, \"target\": \"versicolor\"}, {\"petal_length\": 5.1, \"petal_width\": 2.5, \"sepal_length\": 3.0, \"sepal_width\": 1.1, \"target\": \"versicolor\"}, {\"petal_length\": 5.7, \"petal_width\": 2.8, \"sepal_length\": 4.1, \"sepal_width\": 1.3, \"target\": \"versicolor\"}, {\"petal_length\": 6.3, \"petal_width\": 3.3, \"sepal_length\": 6.0, \"sepal_width\": 2.5, \"target\": \"virginica\"}, {\"petal_length\": 5.8, \"petal_width\": 2.7, \"sepal_length\": 5.1, \"sepal_width\": 1.9, \"target\": \"virginica\"}, {\"petal_length\": 7.1, \"petal_width\": 3.0, \"sepal_length\": 5.9, \"sepal_width\": 2.1, \"target\": \"virginica\"}, {\"petal_length\": 6.3, \"petal_width\": 2.9, \"sepal_length\": 5.6, \"sepal_width\": 1.8, \"target\": \"virginica\"}, {\"petal_length\": 6.5, \"petal_width\": 3.0, \"sepal_length\": 5.8, \"sepal_width\": 2.2, \"target\": \"virginica\"}, {\"petal_length\": 7.6, \"petal_width\": 3.0, \"sepal_length\": 6.6, \"sepal_width\": 2.1, \"target\": \"virginica\"}, {\"petal_length\": 4.9, \"petal_width\": 2.5, \"sepal_length\": 4.5, \"sepal_width\": 1.7, \"target\": \"virginica\"}, {\"petal_length\": 7.3, \"petal_width\": 2.9, \"sepal_length\": 6.3, \"sepal_width\": 1.8, \"target\": \"virginica\"}, {\"petal_length\": 6.7, \"petal_width\": 2.5, \"sepal_length\": 5.8, \"sepal_width\": 1.8, \"target\": \"virginica\"}, {\"petal_length\": 7.2, \"petal_width\": 3.6, \"sepal_length\": 6.1, \"sepal_width\": 2.5, \"target\": \"virginica\"}, {\"petal_length\": 6.5, \"petal_width\": 3.2, \"sepal_length\": 5.1, \"sepal_width\": 2.0, \"target\": \"virginica\"}, {\"petal_length\": 6.4, \"petal_width\": 2.7, \"sepal_length\": 5.3, \"sepal_width\": 1.9, \"target\": \"virginica\"}, {\"petal_length\": 6.8, \"petal_width\": 3.0, \"sepal_length\": 5.5, \"sepal_width\": 2.1, \"target\": \"virginica\"}, {\"petal_length\": 5.7, \"petal_width\": 2.5, \"sepal_length\": 5.0, \"sepal_width\": 2.0, \"target\": \"virginica\"}, {\"petal_length\": 5.8, \"petal_width\": 2.8, \"sepal_length\": 5.1, \"sepal_width\": 2.4, \"target\": \"virginica\"}, {\"petal_length\": 6.4, \"petal_width\": 3.2, \"sepal_length\": 5.3, \"sepal_width\": 2.3, \"target\": \"virginica\"}, {\"petal_length\": 6.5, \"petal_width\": 3.0, \"sepal_length\": 5.5, \"sepal_width\": 1.8, \"target\": \"virginica\"}, {\"petal_length\": 7.7, \"petal_width\": 3.8, \"sepal_length\": 6.7, \"sepal_width\": 2.2, \"target\": \"virginica\"}, {\"petal_length\": 7.7, \"petal_width\": 2.6, \"sepal_length\": 6.9, \"sepal_width\": 2.3, \"target\": \"virginica\"}, {\"petal_length\": 6.0, \"petal_width\": 2.2, \"sepal_length\": 5.0, \"sepal_width\": 1.5, \"target\": \"virginica\"}, {\"petal_length\": 6.9, \"petal_width\": 3.2, \"sepal_length\": 5.7, \"sepal_width\": 2.3, \"target\": \"virginica\"}, {\"petal_length\": 5.6, \"petal_width\": 2.8, \"sepal_length\": 4.9, \"sepal_width\": 2.0, \"target\": \"virginica\"}, {\"petal_length\": 7.7, \"petal_width\": 2.8, \"sepal_length\": 6.7, \"sepal_width\": 2.0, \"target\": \"virginica\"}, {\"petal_length\": 6.3, \"petal_width\": 2.7, \"sepal_length\": 4.9, \"sepal_width\": 1.8, \"target\": \"virginica\"}, {\"petal_length\": 6.7, \"petal_width\": 3.3, \"sepal_length\": 5.7, \"sepal_width\": 2.1, \"target\": \"virginica\"}, {\"petal_length\": 7.2, \"petal_width\": 3.2, \"sepal_length\": 6.0, \"sepal_width\": 1.8, \"target\": \"virginica\"}, {\"petal_length\": 6.2, \"petal_width\": 2.8, \"sepal_length\": 4.8, \"sepal_width\": 1.8, \"target\": \"virginica\"}, {\"petal_length\": 6.1, \"petal_width\": 3.0, \"sepal_length\": 4.9, \"sepal_width\": 1.8, \"target\": \"virginica\"}, {\"petal_length\": 6.4, \"petal_width\": 2.8, \"sepal_length\": 5.6, \"sepal_width\": 2.1, \"target\": \"virginica\"}, {\"petal_length\": 7.2, \"petal_width\": 3.0, \"sepal_length\": 5.8, \"sepal_width\": 1.6, \"target\": \"virginica\"}, {\"petal_length\": 7.4, \"petal_width\": 2.8, \"sepal_length\": 6.1, \"sepal_width\": 1.9, \"target\": \"virginica\"}, {\"petal_length\": 7.9, \"petal_width\": 3.8, \"sepal_length\": 6.4, \"sepal_width\": 2.0, \"target\": \"virginica\"}, {\"petal_length\": 6.4, \"petal_width\": 2.8, \"sepal_length\": 5.6, \"sepal_width\": 2.2, \"target\": \"virginica\"}, {\"petal_length\": 6.3, \"petal_width\": 2.8, \"sepal_length\": 5.1, \"sepal_width\": 1.5, \"target\": \"virginica\"}, {\"petal_length\": 6.1, \"petal_width\": 2.6, \"sepal_length\": 5.6, \"sepal_width\": 1.4, \"target\": \"virginica\"}, {\"petal_length\": 7.7, \"petal_width\": 3.0, \"sepal_length\": 6.1, \"sepal_width\": 2.3, \"target\": \"virginica\"}, {\"petal_length\": 6.3, \"petal_width\": 3.4, \"sepal_length\": 5.6, \"sepal_width\": 2.4, \"target\": \"virginica\"}, {\"petal_length\": 6.4, \"petal_width\": 3.1, \"sepal_length\": 5.5, \"sepal_width\": 1.8, \"target\": \"virginica\"}, {\"petal_length\": 6.0, \"petal_width\": 3.0, \"sepal_length\": 4.8, \"sepal_width\": 1.8, \"target\": \"virginica\"}, {\"petal_length\": 6.9, \"petal_width\": 3.1, \"sepal_length\": 5.4, \"sepal_width\": 2.1, \"target\": \"virginica\"}, {\"petal_length\": 6.7, \"petal_width\": 3.1, \"sepal_length\": 5.6, \"sepal_width\": 2.4, \"target\": \"virginica\"}, {\"petal_length\": 6.9, \"petal_width\": 3.1, \"sepal_length\": 5.1, \"sepal_width\": 2.3, \"target\": \"virginica\"}, {\"petal_length\": 5.8, \"petal_width\": 2.7, \"sepal_length\": 5.1, \"sepal_width\": 1.9, \"target\": \"virginica\"}, {\"petal_length\": 6.8, \"petal_width\": 3.2, \"sepal_length\": 5.9, \"sepal_width\": 2.3, \"target\": \"virginica\"}, {\"petal_length\": 6.7, \"petal_width\": 3.3, \"sepal_length\": 5.7, \"sepal_width\": 2.5, \"target\": \"virginica\"}, {\"petal_length\": 6.7, \"petal_width\": 3.0, \"sepal_length\": 5.2, \"sepal_width\": 2.3, \"target\": \"virginica\"}, {\"petal_length\": 6.3, \"petal_width\": 2.5, \"sepal_length\": 5.0, \"sepal_width\": 1.9, \"target\": \"virginica\"}, {\"petal_length\": 6.5, \"petal_width\": 3.0, \"sepal_length\": 5.2, \"sepal_width\": 2.0, \"target\": \"virginica\"}, {\"petal_length\": 6.2, \"petal_width\": 3.4, \"sepal_length\": 5.4, \"sepal_width\": 2.3, \"target\": \"virginica\"}, {\"petal_length\": 5.9, \"petal_width\": 3.0, \"sepal_length\": 5.1, \"sepal_width\": 1.8, \"target\": \"virginica\"}]}}, {\"mode\": \"vega-lite\"});\n",
              "</script>"
            ]
          },
          "metadata": {},
          "execution_count": 55
        }
      ]
    }
  ]
}