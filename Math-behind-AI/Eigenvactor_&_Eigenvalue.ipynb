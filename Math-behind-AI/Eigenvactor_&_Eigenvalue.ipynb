{
  "nbformat": 4,
  "nbformat_minor": 0,
  "metadata": {
    "colab": {
      "name": "Eigenvactor & Eigenvalue.ipynb",
      "provenance": [],
      "collapsed_sections": []
    },
    "kernelspec": {
      "name": "python3",
      "display_name": "Python 3"
    },
    "language_info": {
      "name": "python"
    }
  },
  "cells": [
    {
      "cell_type": "markdown",
      "metadata": {
        "id": "yKArFTkog_Jj"
      },
      "source": [
        "# Eigenvector & Eigenvalue\n"
      ]
    },
    {
      "cell_type": "markdown",
      "metadata": {
        "id": "ilIl7bTYhJsb"
      },
      "source": [
        "### Iterative Power Method"
      ]
    },
    {
      "cell_type": "code",
      "metadata": {
        "id": "lSzlHqJ2g-p3"
      },
      "source": [
        "import numpy as np\n",
        "\n",
        "A = np.array([[1,2,3],[4,5,6],[7,8,9]])"
      ],
      "execution_count": 32,
      "outputs": []
    },
    {
      "cell_type": "code",
      "metadata": {
        "id": "-ifhlQI4hhuy"
      },
      "source": [
        "import numpy as np\n",
        "import math\n",
        "\n",
        "def eigen(A , N=10):\n",
        "\n",
        "  v = np.array([[1,2,3]]).T\n",
        "  c = 1\n",
        "  for i in range(0,N):\n",
        "    q = A @ v\n",
        "    c = math.sqrt(np.sum(q**2))\n",
        "    v = q / c\n",
        "\n",
        "  return v,c"
      ],
      "execution_count": 33,
      "outputs": []
    },
    {
      "cell_type": "code",
      "metadata": {
        "id": "oJO9WvFGhn3L"
      },
      "source": [
        "eigenvector , eigenvalue = eigen(A)"
      ],
      "execution_count": 34,
      "outputs": []
    },
    {
      "cell_type": "markdown",
      "metadata": {
        "id": "plLdra3Jjru2"
      },
      "source": [
        "# Deflation"
      ]
    },
    {
      "cell_type": "code",
      "metadata": {
        "id": "-vpTAaZkivmQ"
      },
      "source": [
        "def deflation(A , evector , evalue , N=10):\n",
        "  eigenvector = [evector]\n",
        "  eigenvalue = [evalue]\n",
        "\n",
        "  for i in range(N):\n",
        "    A = A - evalue * np.eye((evector.shape[0]))\n",
        "    evector , evalue = eigen(A)\n",
        "    \n",
        "    eigenvector.append(evector)\n",
        "    eigenvalue.append(evalue)\n",
        "\n",
        "  return eigenvector , eigenvalue"
      ],
      "execution_count": 35,
      "outputs": []
    },
    {
      "cell_type": "code",
      "metadata": {
        "id": "Zqre8jB4khg1"
      },
      "source": [
        "eigenvector , eigenvalue = deflation(A , eigenvector , eigenvalue)"
      ],
      "execution_count": 36,
      "outputs": []
    },
    {
      "cell_type": "code",
      "metadata": {
        "id": "l5_AO3Kwl5tN"
      },
      "source": [
        ""
      ],
      "execution_count": null,
      "outputs": []
    }
  ]
}