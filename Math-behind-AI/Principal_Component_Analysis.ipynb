{
  "nbformat": 4,
  "nbformat_minor": 0,
  "metadata": {
    "colab": {
      "name": "Keras",
      "provenance": [],
      "collapsed_sections": []
    },
    "kernelspec": {
      "name": "python3",
      "display_name": "Python 3"
    },
    "language_info": {
      "name": "python"
    }
  },
  "cells": [
    {
      "cell_type": "markdown",
      "metadata": {
        "id": "QCmM3bPKctq5"
      },
      "source": [
        "# PCA : Principal Component Analysis\n",
        "1. Preparing Data.\n",
        "2. Normalization.\n",
        "3. Finding Covariance Matrix.\n",
        "4. Finding Eigenvector & Eigenvalue.\n",
        "5. Forming a feature vector."
      ]
    },
    {
      "cell_type": "code",
      "metadata": {
        "id": "h-WbJpzidbF2"
      },
      "source": [
        "#Setup\n",
        "import numpy as np\n",
        "import math\n",
        "import matplotlib.pyplot as plt"
      ],
      "execution_count": 52,
      "outputs": []
    },
    {
      "cell_type": "markdown",
      "metadata": {
        "id": "erAb_pzrdXPR"
      },
      "source": [
        "## 1. Preparing Data"
      ]
    },
    {
      "cell_type": "code",
      "metadata": {
        "colab": {
          "base_uri": "https://localhost:8080/",
          "height": 265
        },
        "id": "QcZHGlqgc1JN",
        "outputId": "5426998a-1aa2-4401-a8d2-9d9557027f4d"
      },
      "source": [
        "x1 = np.array([1 , 2 , 3 , 3 , 4 , 4 , 5 , 5 , 6 , 7])\n",
        "x2 = np.array([3 , 3 , 4 , 5 , 4 , 6 , 6 , 7 , 8 , 8])\n",
        "\n",
        "plt.plot(x1,x2,'.')\n",
        "plt.show()"
      ],
      "execution_count": 53,
      "outputs": [
        {
          "output_type": "display_data",
          "data": {
            "image/png": "[encoded data removed]",
            "text/plain": [
              "<Figure size 432x288 with 1 Axes>"
            ]
          },
          "metadata": {
            "needs_background": "light"
          }
        }
      ]
    },
    {
      "cell_type": "markdown",
      "metadata": {
        "id": "TncsoLEHeGs8"
      },
      "source": [
        "## 2. Normalization"
      ]
    },
    {
      "cell_type": "code",
      "metadata": {
        "colab": {
          "base_uri": "https://localhost:8080/",
          "height": 265
        },
        "id": "l6Lk3yaDeI6k",
        "outputId": "d5510dda-0bcf-4da8-d5c6-010e06062aa3"
      },
      "source": [
        "x1_bar = np.sum(x1) / len(x1)\n",
        "x2_bar = np.sum(x2) / len(x2)\n",
        "\n",
        "x1 = x1-x1_bar\n",
        "x2 = x2-x2_bar\n",
        "\n",
        "plt.plot(x1,x2,'.')\n",
        "plt.show()"
      ],
      "execution_count": 54,
      "outputs": [
        {
          "output_type": "display_data",
          "data": {
            "image/png": "[encoded data removed]",
            "text/plain": [
              "<Figure size 432x288 with 1 Axes>"
            ]
          },
          "metadata": {
            "needs_background": "light"
          }
        }
      ]
    },
    {
      "cell_type": "markdown",
      "metadata": {
        "id": "6F5pYNWaeWrm"
      },
      "source": [
        "## 3. Finding Covariance Matrix"
      ]
    },
    {
      "cell_type": "code",
      "metadata": {
        "id": "IUh7_kDBebcd"
      },
      "source": [
        "def cov(x , y , normalize=True):\n",
        "  if normalize == False:\n",
        "    x_bar = np.sum(x) / len(x)\n",
        "    y_bar = np.sum(y) / len(y)\n",
        "\n",
        "    x = x-x_bar\n",
        "    y = y-y_bar\n",
        "  \n",
        "  return np.sum(x*y) / len(x)-1"
      ],
      "execution_count": 55,
      "outputs": []
    },
    {
      "cell_type": "code",
      "metadata": {
        "id": "swzliNkbe--Y"
      },
      "source": [
        "#Covariance Matrix of x1 and x2\n",
        "\n",
        "cov_matrix = np.array([[cov(x1,x1) , cov(x1,x2)] , \n",
        "                       [cov(x2,x1) , cov(x2,x2)]])"
      ],
      "execution_count": 56,
      "outputs": []
    },
    {
      "cell_type": "markdown",
      "metadata": {
        "id": "sRdqPB-2fPPN"
      },
      "source": [
        "## 4. Finding Eigenvalue & Eigenvector"
      ]
    },
    {
      "cell_type": "code",
      "metadata": {
        "colab": {
          "base_uri": "https://localhost:8080/"
        },
        "id": "WDd2Bfh6fOeS",
        "outputId": "1e9e7cab-d0fd-40f6-f7f4-5ce8a9d2d7a7"
      },
      "source": [
        "eigenvalue , eigenvector = np.linalg.eig(cov_matrix)\n",
        "\n",
        "print(eigenvalue)\n",
        "print(eigenvector)"
      ],
      "execution_count": 57,
      "outputs": [
        {
          "output_type": "stream",
          "name": "stdout",
          "text": [
            "[0.2162143 4.0237857]\n",
            "[[-0.72905154 -0.6844588 ]\n",
            " [ 0.6844588  -0.72905154]]\n"
          ]
        }
      ]
    },
    {
      "cell_type": "markdown",
      "metadata": {
        "id": "Vg2-Or4Bgc2H"
      },
      "source": [
        "## 5. Forming a feature vector"
      ]
    },
    {
      "cell_type": "code",
      "metadata": {
        "colab": {
          "base_uri": "https://localhost:8080/",
          "height": 265
        },
        "id": "5VbPazDBgXzw",
        "outputId": "c3031100-b2fd-47cb-91ea-032ca54d7f38"
      },
      "source": [
        "data = np.array([x1,x2])\n",
        "\n",
        "new_data = (data.T @ eigenvector).T\n",
        "\n",
        "plt.plot(new_data[1] , new_data[0] , '.r')\n",
        "\n",
        "#plot axis\n",
        "range_n = 5\n",
        "x = np.array([i for i in range(-range_n,range_n)])\n",
        "plt.plot(x , x*0 , color='#000')\n",
        "plt.plot(x*0 , x/2 , color='#000')\n",
        "plt.show()"
      ],
      "execution_count": 68,
      "outputs": [
        {
          "output_type": "display_data",
          "data": {
            "image/png": "[encoded data removed]",
            "text/plain": [
              "<Figure size 432x288 with 1 Axes>"
            ]
          },
          "metadata": {
            "needs_background": "light"
          }
        }
      ]
    }
  ]
}