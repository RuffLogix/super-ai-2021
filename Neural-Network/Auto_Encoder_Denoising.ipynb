{
  "nbformat": 4,
  "nbformat_minor": 0,
  "metadata": {
    "accelerator": "GPU",
    "colab": {
      "name": "Auto Encoder Denoising.ipynb",
      "provenance": [],
      "collapsed_sections": []
    },
    "kernelspec": {
      "display_name": "Python 3",
      "name": "python3"
    },
    "language_info": {
      "name": "python"
    }
  },
  "cells": [
    {
      "cell_type": "markdown",
      "metadata": {
        "id": "aDUn17AIK5Qo"
      },
      "source": [
        "# import dataset"
      ]
    },
    {
      "cell_type": "code",
      "metadata": {
        "id": "EovecaexK8kw"
      },
      "source": [
        "import tensorflow as tf\n",
        "import matplotlib.pyplot as plt\n",
        "\n",
        "(Xtrain , Ytrain) , (Xtest , Ytest) = tf.keras.datasets.mnist.load_data()\n",
        "\n",
        "Xtrain = Xtrain[:,:,:,None] / 255\n",
        "Xtest = Xtest[:,:,:,None] / 255\n",
        "\n",
        "# Xtrain = tf.image.resize(Xtrain , (32,32))\n",
        "# Xtest = tf.image.resize(Xtest , (32,32))\n"
      ],
      "execution_count": 1,
      "outputs": []
    },
    {
      "cell_type": "code",
      "metadata": {
        "colab": {
          "base_uri": "https://localhost:8080/"
        },
        "id": "esRUB0K5QTxK",
        "outputId": "12022ce0-d244-46f4-b1f7-37988334c75e"
      },
      "source": [
        "Xtrain.shape"
      ],
      "execution_count": 2,
      "outputs": [
        {
          "output_type": "execute_result",
          "data": {
            "text/plain": [
              "(60000, 28, 28, 1)"
            ]
          },
          "metadata": {},
          "execution_count": 2
        }
      ]
    },
    {
      "cell_type": "markdown",
      "metadata": {
        "id": "iD-VehK0LRzm"
      },
      "source": [
        "# Auto Encoder 2D"
      ]
    },
    {
      "cell_type": "code",
      "metadata": {
        "id": "mDhUcCvLLTsM"
      },
      "source": [
        "encoded_inputs = tf.keras.Input(shape=(Xtrain.shape[1:]))\n",
        "x = tf.keras.layers.Conv2D(16 , (3,3) , activation='relu' , padding='same')(encoded_inputs)\n",
        "x = tf.keras.layers.MaxPool2D(padding='same')(x)\n",
        "x = tf.keras.layers.Conv2D(8 , (3,3) , activation='relu' , padding='same')(x)\n",
        "x = tf.keras.layers.MaxPool2D(padding='same')(x)\n",
        "x = tf.keras.layers.Conv2D(8 , (3,3) , activation='relu' , padding='same')(x)\n",
        "encoded = tf.keras.layers.MaxPool2D(padding='same')(x)\n",
        "encoder = tf.keras.Model(encoded_inputs , encoded , name=\"encoder\")"
      ],
      "execution_count": 3,
      "outputs": []
    },
    {
      "cell_type": "code",
      "metadata": {
        "colab": {
          "base_uri": "https://localhost:8080/"
        },
        "id": "zS8gA-1CMjlM",
        "outputId": "c5c72681-6056-44be-c17e-4ead9d86a0c3"
      },
      "source": [
        "encoder.summary()"
      ],
      "execution_count": 4,
      "outputs": [
        {
          "output_type": "stream",
          "name": "stdout",
          "text": [
            "Model: \"encoder\"\n",
            "_________________________________________________________________\n",
            "Layer (type)                 Output Shape              Param #   \n",
            "=================================================================\n",
            "input_1 (InputLayer)         [(None, 28, 28, 1)]       0         \n",
            "_________________________________________________________________\n",
            "conv2d (Conv2D)              (None, 28, 28, 16)        160       \n",
            "_________________________________________________________________\n",
            "max_pooling2d (MaxPooling2D) (None, 14, 14, 16)        0         \n",
            "_________________________________________________________________\n",
            "conv2d_1 (Conv2D)            (None, 14, 14, 8)         1160      \n",
            "_________________________________________________________________\n",
            "max_pooling2d_1 (MaxPooling2 (None, 7, 7, 8)           0         \n",
            "_________________________________________________________________\n",
            "conv2d_2 (Conv2D)            (None, 7, 7, 8)           584       \n",
            "_________________________________________________________________\n",
            "max_pooling2d_2 (MaxPooling2 (None, 4, 4, 8)           0         \n",
            "=================================================================\n",
            "Total params: 1,904\n",
            "Trainable params: 1,904\n",
            "Non-trainable params: 0\n",
            "_________________________________________________________________\n"
          ]
        }
      ]
    },
    {
      "cell_type": "code",
      "metadata": {
        "id": "WiuiqKFeMl1V"
      },
      "source": [
        "decoded_inputs = tf.keras.Input(shape=encoded.shape[1:])\n",
        "x = tf.keras.layers.Conv2D(8 , (3,3) , activation='relu' , padding='same')(decoded_inputs)\n",
        "x = tf.keras.layers.UpSampling2D()(x)\n",
        "x = tf.keras.layers.Conv2D(8 , (3,3) , activation='relu' , padding='same')(x)\n",
        "x = tf.keras.layers.UpSampling2D()(x)\n",
        "x = tf.keras.layers.Conv2D(16 , (3,3) , activation='relu')(x)\n",
        "x = tf.keras.layers.UpSampling2D()(x)\n",
        "decoded = tf.keras.layers.Conv2D(1 , (3,3) , activation='sigmoid' , padding='same')(x)\n",
        "decoder = tf.keras.Model(decoded_inputs , decoded , name=\"decoder\")"
      ],
      "execution_count": 5,
      "outputs": []
    },
    {
      "cell_type": "code",
      "metadata": {
        "colab": {
          "base_uri": "https://localhost:8080/"
        },
        "id": "pp-RZF6fNrQA",
        "outputId": "d8d7f13e-5b2a-4100-c7bc-60b673b27a0c"
      },
      "source": [
        "decoder.summary()"
      ],
      "execution_count": 6,
      "outputs": [
        {
          "output_type": "stream",
          "name": "stdout",
          "text": [
            "Model: \"decoder\"\n",
            "_________________________________________________________________\n",
            "Layer (type)                 Output Shape              Param #   \n",
            "=================================================================\n",
            "input_2 (InputLayer)         [(None, 4, 4, 8)]         0         \n",
            "_________________________________________________________________\n",
            "conv2d_3 (Conv2D)            (None, 4, 4, 8)           584       \n",
            "_________________________________________________________________\n",
            "up_sampling2d (UpSampling2D) (None, 8, 8, 8)           0         \n",
            "_________________________________________________________________\n",
            "conv2d_4 (Conv2D)            (None, 8, 8, 8)           584       \n",
            "_________________________________________________________________\n",
            "up_sampling2d_1 (UpSampling2 (None, 16, 16, 8)         0         \n",
            "_________________________________________________________________\n",
            "conv2d_5 (Conv2D)            (None, 14, 14, 16)        1168      \n",
            "_________________________________________________________________\n",
            "up_sampling2d_2 (UpSampling2 (None, 28, 28, 16)        0         \n",
            "_________________________________________________________________\n",
            "conv2d_6 (Conv2D)            (None, 28, 28, 1)         145       \n",
            "=================================================================\n",
            "Total params: 2,481\n",
            "Trainable params: 2,481\n",
            "Non-trainable params: 0\n",
            "_________________________________________________________________\n"
          ]
        }
      ]
    },
    {
      "cell_type": "code",
      "metadata": {
        "id": "UMhiIlvrOpN9"
      },
      "source": [
        "model = tf.keras.Model(encoded_inputs , decoder(encoder(encoded_inputs)) , name='autoencoder')"
      ],
      "execution_count": 7,
      "outputs": []
    },
    {
      "cell_type": "code",
      "metadata": {
        "colab": {
          "base_uri": "https://localhost:8080/"
        },
        "id": "hjjxEO83O1k6",
        "outputId": "b43ed310-3cab-4962-9826-254038bac811"
      },
      "source": [
        "model.summary()"
      ],
      "execution_count": 8,
      "outputs": [
        {
          "output_type": "stream",
          "name": "stdout",
          "text": [
            "Model: \"autoencoder\"\n",
            "_________________________________________________________________\n",
            "Layer (type)                 Output Shape              Param #   \n",
            "=================================================================\n",
            "input_1 (InputLayer)         [(None, 28, 28, 1)]       0         \n",
            "_________________________________________________________________\n",
            "encoder (Functional)         (None, 4, 4, 8)           1904      \n",
            "_________________________________________________________________\n",
            "decoder (Functional)         (None, 28, 28, 1)         2481      \n",
            "=================================================================\n",
            "Total params: 4,385\n",
            "Trainable params: 4,385\n",
            "Non-trainable params: 0\n",
            "_________________________________________________________________\n"
          ]
        }
      ]
    },
    {
      "cell_type": "code",
      "metadata": {
        "id": "-3SMyNtpPLSm"
      },
      "source": [
        "model.compile(optimizer='sgd' , loss='mse')"
      ],
      "execution_count": 9,
      "outputs": []
    },
    {
      "cell_type": "code",
      "metadata": {
        "colab": {
          "base_uri": "https://localhost:8080/"
        },
        "id": "cEtoY-hCPgq1",
        "outputId": "60c46f12-a1af-473e-fd79-d716ff364aa6"
      },
      "source": [
        "model.fit(Xtrain , Xtrain , epochs=10)"
      ],
      "execution_count": 24,
      "outputs": [
        {
          "output_type": "stream",
          "name": "stdout",
          "text": [
            "Epoch 1/10\n",
            "1875/1875 [==============================] - 11s 6ms/step - loss: 0.0270\n",
            "Epoch 2/10\n",
            "1875/1875 [==============================] - 11s 6ms/step - loss: 0.0266\n",
            "Epoch 3/10\n",
            "1875/1875 [==============================] - 11s 6ms/step - loss: 0.0263\n",
            "Epoch 4/10\n",
            "1875/1875 [==============================] - 11s 6ms/step - loss: 0.0260\n",
            "Epoch 5/10\n",
            "1875/1875 [==============================] - 11s 6ms/step - loss: 0.0257\n",
            "Epoch 6/10\n",
            "1875/1875 [==============================] - 11s 6ms/step - loss: 0.0254\n",
            "Epoch 7/10\n",
            "1875/1875 [==============================] - 11s 6ms/step - loss: 0.0252\n",
            "Epoch 8/10\n",
            "1875/1875 [==============================] - 11s 6ms/step - loss: 0.0249\n",
            "Epoch 9/10\n",
            "1875/1875 [==============================] - 11s 6ms/step - loss: 0.0247\n",
            "Epoch 10/10\n",
            "1875/1875 [==============================] - 11s 6ms/step - loss: 0.0245\n"
          ]
        },
        {
          "output_type": "execute_result",
          "data": {
            "text/plain": [
              "<keras.callbacks.History at 0x7f31dd7fc950>"
            ]
          },
          "metadata": {},
          "execution_count": 24
        }
      ]
    },
    {
      "cell_type": "code",
      "metadata": {
        "id": "I5zb2OORQXtc",
        "colab": {
          "base_uri": "https://localhost:8080/"
        },
        "outputId": "e2577d95-6734-4126-9c82-c0b8a0ce39ae"
      },
      "source": [
        "Z = encoder(Xtest)\n",
        "Z.shape"
      ],
      "execution_count": 25,
      "outputs": [
        {
          "output_type": "execute_result",
          "data": {
            "text/plain": [
              "TensorShape([10000, 4, 4, 8])"
            ]
          },
          "metadata": {},
          "execution_count": 25
        }
      ]
    },
    {
      "cell_type": "code",
      "metadata": {
        "id": "MC_rw-KwTBwZ",
        "colab": {
          "base_uri": "https://localhost:8080/",
          "height": 411
        },
        "outputId": "928461cf-7e5f-4f18-daea-1b500ba4fb1c"
      },
      "source": [
        "import matplotlib.pyplot as plt\n",
        "import numpy as np\n",
        "\n",
        "plt.figure(figsize=(8,8))\n",
        "for i in range(0,8):\n",
        "  plt.subplot(1,8,i+1)\n",
        "  plt.imshow(Z[i].numpy().reshape(32,-1))\n",
        "  plt.axis('off')\n",
        "plt.show()"
      ],
      "execution_count": 26,
      "outputs": [
        {
          "output_type": "display_data",
          "data": {
            "image/png": "[encoded data removed]",
            "text/plain": [
              "<Figure size 576x576 with 8 Axes>"
            ]
          },
          "metadata": {
            "needs_background": "light"
          }
        }
      ]
    },
    {
      "cell_type": "markdown",
      "metadata": {
        "id": "w5PifUQnjXaO"
      },
      "source": [
        "### Denoising"
      ]
    },
    {
      "cell_type": "code",
      "metadata": {
        "id": "SA4i9BC7TGL7",
        "colab": {
          "base_uri": "https://localhost:8080/",
          "height": 201
        },
        "outputId": "2bfa96d4-7a66-4ede-fc5e-ed4bc51a73b0"
      },
      "source": [
        "import numpy as np \n",
        "\n",
        "X = Xtest + 0.3 * np.random.rand(*Xtest.shape)\n",
        "X /= X.max()\n",
        "Z = model.predict(X)\n",
        "\n",
        "idx = 1230\n",
        "\n",
        "#Z = np.round(Z)\n",
        "plt.subplot(1 , 2 , 1)\n",
        "plt.imshow(Z[idx,:,:,0])\n",
        "plt.subplot(1 , 2 , 2)\n",
        "plt.imshow(X[idx,:,:,0])\n",
        "plt.show()"
      ],
      "execution_count": 31,
      "outputs": [
        {
          "output_type": "display_data",
          "data": {
            "image/png": "[encoded data removed]",
            "text/plain": [
              "<Figure size 432x288 with 2 Axes>"
            ]
          },
          "metadata": {
            "needs_background": "light"
          }
        }
      ]
    }
  ]
}