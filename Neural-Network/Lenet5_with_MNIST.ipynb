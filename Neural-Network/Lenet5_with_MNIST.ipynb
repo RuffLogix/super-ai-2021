{
  "nbformat": 4,
  "nbformat_minor": 0,
  "metadata": {
    "accelerator": "GPU",
    "colab": {
      "name": "Lenet5 with MNIST.ipynb",
      "provenance": [],
      "collapsed_sections": []
    },
    "kernelspec": {
      "display_name": "Python 3",
      "name": "python3"
    },
    "language_info": {
      "name": "python"
    }
  },
  "cells": [
    {
      "cell_type": "markdown",
      "metadata": {
        "id": "4uSeaJyY81oJ"
      },
      "source": [
        "# MNIST Dataset"
      ]
    },
    {
      "cell_type": "markdown",
      "metadata": {
        "id": "ZvMg0fCpCJM6"
      },
      "source": [
        "### import dataset"
      ]
    },
    {
      "cell_type": "code",
      "metadata": {
        "colab": {
          "base_uri": "https://localhost:8080/"
        },
        "id": "1vTtK4Ks84BL",
        "outputId": "a411f697-9eec-42a9-f66f-5c283985b580"
      },
      "source": [
        "import tensorflow as tf\n",
        "\n",
        "(x_train , y_train ) , (x_test , y_test) = tf.keras.datasets.mnist.load_data()\n",
        "\n",
        "x_train = x_train[:,:,:,None] / 255.\n",
        "x_test = x_test[:,:,:,None] / 255.\n",
        "\n",
        "x_train = tf.image.resize(x_train , (32,32))\n",
        "x_test = tf.image.resize(x_test , (32,32))\n",
        "\n",
        "x_train.shape"
      ],
      "execution_count": null,
      "outputs": [
        {
          "name": "stdout",
          "output_type": "stream",
          "text": [
            "Downloading data from https://storage.googleapis.com/tensorflow/tf-keras-datasets/mnist.npz\n",
            "11493376/11490434 [==============================] - 0s 0us/step\n",
            "11501568/11490434 [==============================] - 0s 0us/step\n"
          ]
        },
        {
          "data": {
            "text/plain": [
              "TensorShape([60000, 32, 32, 1])"
            ]
          },
          "execution_count": 3,
          "metadata": {},
          "output_type": "execute_result"
        }
      ]
    },
    {
      "cell_type": "code",
      "metadata": {
        "colab": {
          "base_uri": "https://localhost:8080/",
          "height": 281
        },
        "id": "LZAY7VVB8-Fd",
        "outputId": "1960ce63-7d87-4cb0-ae2c-8ca2d2845c35"
      },
      "source": [
        "import matplotlib.pyplot as plt\n",
        "\n",
        "plt.imshow(x_train[1201] , cmap='gray')\n",
        "print(y_train[1201])"
      ],
      "execution_count": null,
      "outputs": [
        {
          "name": "stdout",
          "output_type": "stream",
          "text": [
            "3\n"
          ]
        },
        {
          "data": {
            "image/png": "[encoded data removed]",
            "text/plain": [
              "<Figure size 432x288 with 1 Axes>"
            ]
          },
          "metadata": {},
          "output_type": "display_data"
        }
      ]
    },
    {
      "cell_type": "markdown",
      "metadata": {
        "id": "KI8U-E0S9ufP"
      },
      "source": [
        "# Lenet5 wit MNIST\n"
      ]
    },
    {
      "cell_type": "code",
      "metadata": {
        "id": "gr5x42cJ9iqv"
      },
      "source": [
        "import tensorflow as tf\n",
        "\n",
        "model = tf.keras.Sequential()\n",
        "model.add(tf.keras.layers.Input((32,32,1))) # (width , height , bitmap) ??\n",
        "model.add(tf.keras.layers.Conv2D(6 , (5,5) , activation='relu'))\n",
        "model.add(tf.keras.layers.MaxPool2D())\n",
        "model.add(tf.keras.layers.Conv2D(6 , (5,5) , activation='relu'))\n",
        "model.add(tf.keras.layers.MaxPool2D())\n",
        "model.add(tf.keras.layers.Flatten())\n",
        "model.add(tf.keras.layers.Dense(200 , activation='relu')) #original 120\n",
        "model.add(tf.keras.layers.Dense(200 , activation='relu')) #original 84\n",
        "model.add(tf.keras.layers.Dense(10 , activation='softmax'))\n",
        "\n",
        "model.compile(optimizer=tf.keras.optimizers.Adam(learning_rate=0.001) ,\n",
        "              loss=tf.keras.losses.sparse_categorical_crossentropy)"
      ],
      "execution_count": null,
      "outputs": []
    },
    {
      "cell_type": "code",
      "metadata": {
        "colab": {
          "background_save": true,
          "base_uri": "https://localhost:8080/"
        },
        "id": "hiXPQo94_wDC",
        "outputId": "6808be65-4b2b-4a86-e89a-f30cc553ee08"
      },
      "source": [
        "model.fit(x_train , y_train , epochs=10)"
      ],
      "execution_count": null,
      "outputs": [
        {
          "name": "stdout",
          "output_type": "stream",
          "text": [
            "Epoch 1/10\n",
            "1875/1875 [==============================] - 36s 19ms/step - loss: 0.1708\n",
            "Epoch 2/10\n",
            "1875/1875 [==============================] - 34s 18ms/step - loss: 0.0620\n",
            "Epoch 3/10\n",
            "1875/1875 [==============================] - 35s 18ms/step - loss: 0.0459\n",
            "Epoch 4/10\n",
            "1875/1875 [==============================] - 35s 18ms/step - loss: 0.0386\n",
            "Epoch 5/10\n",
            "1875/1875 [==============================] - 35s 18ms/step - loss: 0.0316\n",
            "Epoch 6/10\n",
            "1875/1875 [==============================] - 34s 18ms/step - loss: 0.0271\n",
            "Epoch 7/10\n",
            "1875/1875 [==============================] - 34s 18ms/step - loss: 0.0243\n",
            "Epoch 8/10\n",
            "1875/1875 [==============================] - 34s 18ms/step - loss: 0.0206\n",
            "Epoch 9/10\n",
            "1875/1875 [==============================] - 35s 18ms/step - loss: 0.0175\n",
            "Epoch 10/10\n",
            "1875/1875 [==============================] - 34s 18ms/step - loss: 0.0167\n"
          ]
        },
        {
          "data": {
            "text/plain": [
              "<keras.callbacks.History at 0x7fb8f80f2290>"
            ]
          },
          "execution_count": null,
          "metadata": {},
          "output_type": "execute_result"
        }
      ]
    },
    {
      "cell_type": "code",
      "metadata": {
        "colab": {
          "base_uri": "https://localhost:8080/"
        },
        "id": "3inwJZiW_2D7",
        "outputId": "5fe37b02-7ac1-4d47-f1c5-b32c7d4c423e"
      },
      "source": [
        "import numpy as np\n",
        "\n",
        "predict_y = model.predict(x_test)\n",
        "\n",
        "print(\"accuracy : \" + format((np.sum(predict_y.argmax(axis=1) == y_test) / len(y_test) * 100) , \".2f\") + \" %\") "
      ],
      "execution_count": null,
      "outputs": [
        {
          "name": "stdout",
          "output_type": "stream",
          "text": [
            "accuracy : 98.89 %\n"
          ]
        }
      ]
    }
  ]
}