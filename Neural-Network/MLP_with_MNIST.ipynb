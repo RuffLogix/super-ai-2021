{
  "nbformat": 4,
  "nbformat_minor": 0,
  "metadata": {
    "colab": {
      "name": "MLP with MNIST.ipynb",
      "provenance": [],
      "collapsed_sections": []
    },
    "kernelspec": {
      "name": "python3",
      "display_name": "Python 3"
    },
    "language_info": {
      "name": "python"
    }
  },
  "cells": [
    {
      "cell_type": "markdown",
      "metadata": {
        "id": "4uSeaJyY81oJ"
      },
      "source": [
        "# MNIST Dataset"
      ]
    },
    {
      "cell_type": "markdown",
      "metadata": {
        "id": "ZvMg0fCpCJM6"
      },
      "source": [
        "### import dataset"
      ]
    },
    {
      "cell_type": "code",
      "metadata": {
        "id": "1vTtK4Ks84BL"
      },
      "source": [
        "import tensorflow as tf\n",
        "import numpy as np\n",
        "\n",
        "(x_train , y_train ) , (x_test , y_test) = tf.keras.datasets.mnist.load_data()\n"
      ],
      "execution_count": 176,
      "outputs": []
    },
    {
      "cell_type": "code",
      "metadata": {
        "colab": {
          "base_uri": "https://localhost:8080/",
          "height": 281
        },
        "id": "LZAY7VVB8-Fd",
        "outputId": "b3d93072-c761-4878-c7ad-2dfcc98b2bbc"
      },
      "source": [
        "import matplotlib.pyplot as plt\n",
        "\n",
        "plt.imshow(x_train[200] , cmap='gray')\n",
        "print(y_train[200])"
      ],
      "execution_count": 171,
      "outputs": [
        {
          "output_type": "stream",
          "name": "stdout",
          "text": [
            "1\n"
          ]
        },
        {
          "output_type": "display_data",
          "data": {
            "image/png": "[encoded data removed]",
            "text/plain": [
              "<Figure size 432x288 with 1 Axes>"
            ]
          },
          "metadata": {
            "needs_background": "light"
          }
        }
      ]
    },
    {
      "cell_type": "markdown",
      "metadata": {
        "id": "oypTSc40-uNz"
      },
      "source": [
        "### vectorization"
      ]
    },
    {
      "cell_type": "code",
      "metadata": {
        "colab": {
          "base_uri": "https://localhost:8080/"
        },
        "id": "HwUYGR3F98KF",
        "outputId": "b5c25ad8-237d-47e9-981e-aec9e298f035"
      },
      "source": [
        "x_train = np.reshape(x_train , (-1 , 784))\n",
        "x_test = np.reshape(x_test , (-1 , 784))\n",
        "\n",
        "x_test.shape"
      ],
      "execution_count": 210,
      "outputs": [
        {
          "output_type": "execute_result",
          "data": {
            "text/plain": [
              "(10000, 784)"
            ]
          },
          "metadata": {},
          "execution_count": 210
        }
      ]
    },
    {
      "cell_type": "markdown",
      "metadata": {
        "id": "S4EgPUPk-yDo"
      },
      "source": [
        "### One-hot encoding"
      ]
    },
    {
      "cell_type": "code",
      "metadata": {
        "colab": {
          "base_uri": "https://localhost:8080/"
        },
        "id": "MnA7Op8q-0d1",
        "outputId": "b43504de-a281-4dd9-e4fd-aa08c898b684"
      },
      "source": [
        "y = []\n",
        "\n",
        "for i in y_train:\n",
        "  vector_y = np.zeros(10) #tmp variable\n",
        "  vector_y[i] = 1\n",
        "  y.append(vector_y)\n",
        "\n",
        "y = np.array(y)\n",
        "print(y.shape)"
      ],
      "execution_count": 183,
      "outputs": [
        {
          "output_type": "stream",
          "name": "stdout",
          "text": [
            "(60000, 10)\n"
          ]
        }
      ]
    },
    {
      "cell_type": "markdown",
      "metadata": {
        "id": "KI8U-E0S9ufP"
      },
      "source": [
        "# MLP wit MNIST"
      ]
    },
    {
      "cell_type": "code",
      "metadata": {
        "id": "gr5x42cJ9iqv"
      },
      "source": [
        "import tensorflow as tf\n",
        "\n",
        "model = tf.keras.Sequential()\n",
        "model.add(tf.keras.layers.Input(784))\n",
        "model.add(tf.keras.layers.Dense(200 , activation='relu'))\n",
        "model.add(tf.keras.layers.Dense(200 , activation='relu'))\n",
        "model.add(tf.keras.layers.Dense(10 , activation='softmax'))\n",
        "\n",
        "model.compile(optimizer=tf.keras.optimizers.Adam(learning_rate=0.001) ,\n",
        "              loss=tf.keras.losses.MeanSquaredError())"
      ],
      "execution_count": 189,
      "outputs": []
    },
    {
      "cell_type": "code",
      "metadata": {
        "colab": {
          "base_uri": "https://localhost:8080/"
        },
        "id": "hiXPQo94_wDC",
        "outputId": "5a1b5d3b-8eef-415e-c328-4fc088c1acda"
      },
      "source": [
        "model.fit(x_train / 255. , y , epochs=10)"
      ],
      "execution_count": 190,
      "outputs": [
        {
          "output_type": "stream",
          "name": "stdout",
          "text": [
            "Epoch 1/10\n",
            "1875/1875 [==============================] - 6s 3ms/step - loss: 0.0102\n",
            "Epoch 2/10\n",
            "1875/1875 [==============================] - 6s 3ms/step - loss: 0.0050\n",
            "Epoch 3/10\n",
            "1875/1875 [==============================] - 6s 3ms/step - loss: 0.0038\n",
            "Epoch 4/10\n",
            "1875/1875 [==============================] - 6s 3ms/step - loss: 0.0032\n",
            "Epoch 5/10\n",
            "1875/1875 [==============================] - 6s 3ms/step - loss: 0.0027\n",
            "Epoch 6/10\n",
            "1875/1875 [==============================] - 6s 3ms/step - loss: 0.0024\n",
            "Epoch 7/10\n",
            "1875/1875 [==============================] - 6s 3ms/step - loss: 0.0022\n",
            "Epoch 8/10\n",
            "1875/1875 [==============================] - 6s 3ms/step - loss: 0.0019\n",
            "Epoch 9/10\n",
            "1875/1875 [==============================] - 6s 3ms/step - loss: 0.0018\n",
            "Epoch 10/10\n",
            "1875/1875 [==============================] - 6s 3ms/step - loss: 0.0016\n"
          ]
        },
        {
          "output_type": "execute_result",
          "data": {
            "text/plain": [
              "<keras.callbacks.History at 0x7fb8fb95f5d0>"
            ]
          },
          "metadata": {},
          "execution_count": 190
        }
      ]
    },
    {
      "cell_type": "code",
      "metadata": {
        "colab": {
          "base_uri": "https://localhost:8080/"
        },
        "id": "3inwJZiW_2D7",
        "outputId": "d6611530-db80-4950-f347-68985e596fa2"
      },
      "source": [
        "predict_y = model.predict(x_test / 255.)\n",
        "\n",
        "print(\"accuracy : \" + format((np.sum(predict_y.argmax(axis=1) == y_test) / len(y_test) * 100) , \".2f\") + \" %\")"
      ],
      "execution_count": 209,
      "outputs": [
        {
          "output_type": "stream",
          "name": "stdout",
          "text": [
            "accuracy : 97.73 %\n"
          ]
        }
      ]
    }
  ]
}