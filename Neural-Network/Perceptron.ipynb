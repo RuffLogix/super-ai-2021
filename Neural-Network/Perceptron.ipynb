{
  "nbformat": 4,
  "nbformat_minor": 0,
  "metadata": {
    "colab": {
      "name": "Perceptron.ipynb",
      "provenance": [],
      "collapsed_sections": []
    },
    "kernelspec": {
      "name": "python3",
      "display_name": "Python 3"
    },
    "language_info": {
      "name": "python"
    }
  },
  "cells": [
    {
      "cell_type": "markdown",
      "metadata": {
        "id": "cFRX5BX1IErQ"
      },
      "source": [
        "# Perceptron\n"
      ]
    },
    {
      "cell_type": "markdown",
      "metadata": {
        "id": "q8brkIXPd269"
      },
      "source": [
        "### Dataset"
      ]
    },
    {
      "cell_type": "code",
      "metadata": {
        "id": "CX0Pe8jkOtxx"
      },
      "source": [
        "# And\n",
        "x = [[1,1] , [1,-1] , [-1,1] , [-1,-1]]\n",
        "y = [1 , -1 , -1 , -1]"
      ],
      "execution_count": 92,
      "outputs": []
    },
    {
      "cell_type": "code",
      "metadata": {
        "id": "2Hk5YFQ2Ot_Q"
      },
      "source": [
        "# Or\n",
        "x = [[1,1] , [1,-1] , [-1,1] , [-1,-1]]\n",
        "y = [1 , 1 , 1 , -1]"
      ],
      "execution_count": 98,
      "outputs": []
    },
    {
      "cell_type": "code",
      "metadata": {
        "id": "vXt3KN3LOvUk"
      },
      "source": [
        "# Xor\n",
        "x = [[1,1] , [1,-1] , [-1,1] , [-1,-1]]\n",
        "y = [-1 , 1 , 1 , -1]"
      ],
      "execution_count": 104,
      "outputs": []
    },
    {
      "cell_type": "markdown",
      "metadata": {
        "id": "wLR7gUWsIMnF"
      },
      "source": [
        "### Vector Based"
      ]
    },
    {
      "cell_type": "code",
      "metadata": {
        "id": "XzYKX0X4ICP-"
      },
      "source": [
        "import numpy as np\n",
        "import matplotlib.pyplot as plt\n",
        "\n",
        "def perceptron(x , y , lr=0.1):\n",
        "  x = np.hstack((np.array(x) , np.ones((len(x),1))))\n",
        "  w = x[0]\n",
        "\n",
        "  while True:\n",
        "    isChange = False\n",
        "    for i,u in enumerate(x):\n",
        "      if y[i] * np.dot(w , u) <= 0:\n",
        "        w += lr*u*y[i]\n",
        "        isChange = True\n",
        "        break\n",
        "    if isChange == False :\n",
        "      break\n",
        "  return w\n",
        "\n",
        "def plot_hyperplane(x,y,w):\n",
        "  x = np.array(x)\n",
        "\n",
        "  for i,u in enumerate(x):\n",
        "    if y[i] == 1:\n",
        "      plt.plot(u[0],u[1],'.g')\n",
        "    else :\n",
        "      plt.plot(u[0],u[1],'.r')\n",
        "\n",
        "    slope = -w[0]/w[1]\n",
        "    bias = -w[2]/w[1]\n",
        "    X = np.array([i for i in range(-1,2,)])\n",
        "    plt.plot(X , X*slope + bias , '-b')"
      ],
      "execution_count": 91,
      "outputs": []
    },
    {
      "cell_type": "code",
      "metadata": {
        "colab": {
          "base_uri": "https://localhost:8080/",
          "height": 265
        },
        "id": "ZNe9kPciZI6n",
        "outputId": "9dc1ebcc-7331-4ffe-acbd-2e0869330f29"
      },
      "source": [
        "#Xor doesn't work.\n",
        "w = perceptron(x,y)\n",
        "\n",
        "plot_hyperplane(x,y,w)"
      ],
      "execution_count": 99,
      "outputs": [
        {
          "output_type": "display_data",
          "data": {
            "image/png": "[encoded data removed]",
            "text/plain": [
              "<Figure size 432x288 with 1 Axes>"
            ]
          },
          "metadata": {
            "needs_background": "light"
          }
        }
      ]
    },
    {
      "cell_type": "markdown",
      "metadata": {
        "id": "BEXwrsDbIPQa"
      },
      "source": [
        "### Gradient Based"
      ]
    },
    {
      "cell_type": "code",
      "metadata": {
        "id": "LImmRiViIRI9"
      },
      "source": [
        "import tensorflow as tf\n",
        "import numpy as np\n",
        "\n",
        "model = tf.keras.Sequential()\n",
        "model.add(tf.keras.layers.Input((2,)))\n",
        "model.add(tf.keras.layers.Dense(10 , activation='sigmoid'))\n",
        "model.add(tf.keras.layers.Dense(1))\n",
        "\n",
        "model.compile(optimizer=tf.keras.optimizers.Adam(learning_rate=0.1) , \n",
        "              loss=tf.keras.losses.MeanSquaredError())"
      ],
      "execution_count": 108,
      "outputs": []
    },
    {
      "cell_type": "code",
      "metadata": {
        "colab": {
          "base_uri": "https://localhost:8080/"
        },
        "id": "VYr3e--TeG8x",
        "outputId": "fe6cd731-c584-403f-ceb0-50d30333f129"
      },
      "source": [
        "model.fit(x,y,epochs=10)"
      ],
      "execution_count": 117,
      "outputs": [
        {
          "output_type": "stream",
          "name": "stdout",
          "text": [
            "Epoch 1/10\n",
            "1/1 [==============================] - 0s 5ms/step - loss: 2.4747e-04\n",
            "Epoch 2/10\n",
            "1/1 [==============================] - 0s 4ms/step - loss: 1.3663e-04\n",
            "Epoch 3/10\n",
            "1/1 [==============================] - 0s 4ms/step - loss: 6.3175e-05\n",
            "Epoch 4/10\n",
            "1/1 [==============================] - 0s 4ms/step - loss: 2.2482e-05\n",
            "Epoch 5/10\n",
            "1/1 [==============================] - 0s 4ms/step - loss: 6.8747e-06\n",
            "Epoch 6/10\n",
            "1/1 [==============================] - 0s 4ms/step - loss: 1.1550e-05\n",
            "Epoch 7/10\n",
            "1/1 [==============================] - 0s 7ms/step - loss: 3.3577e-05\n",
            "Epoch 8/10\n",
            "1/1 [==============================] - 0s 5ms/step - loss: 6.7415e-05\n",
            "Epoch 9/10\n",
            "1/1 [==============================] - 0s 4ms/step - loss: 1.0377e-04\n",
            "Epoch 10/10\n",
            "1/1 [==============================] - 0s 4ms/step - loss: 1.3354e-04\n"
          ]
        },
        {
          "output_type": "execute_result",
          "data": {
            "text/plain": [
              "<keras.callbacks.History at 0x7f47e51f1ad0>"
            ]
          },
          "metadata": {},
          "execution_count": 117
        }
      ]
    },
    {
      "cell_type": "code",
      "metadata": {
        "colab": {
          "base_uri": "https://localhost:8080/"
        },
        "id": "2Dm9hIMgemM7",
        "outputId": "fd8aa131-f560-4e09-b17a-b345ee243d0d"
      },
      "source": [
        "#Check Answer\n",
        "np.round(model.predict(x)).reshape(4) == y"
      ],
      "execution_count": 116,
      "outputs": [
        {
          "output_type": "execute_result",
          "data": {
            "text/plain": [
              "array([ True,  True,  True,  True])"
            ]
          },
          "metadata": {},
          "execution_count": 116
        }
      ]
    }
  ]
}