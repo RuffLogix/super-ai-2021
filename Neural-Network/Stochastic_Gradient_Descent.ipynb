{
  "nbformat": 4,
  "nbformat_minor": 0,
  "metadata": {
    "colab": {
      "name": "Stochastic Gradient Descent.ipynb",
      "provenance": [],
      "collapsed_sections": []
    },
    "kernelspec": {
      "name": "python3",
      "display_name": "Python 3"
    },
    "language_info": {
      "name": "python"
    }
  },
  "cells": [
    {
      "cell_type": "markdown",
      "metadata": {
        "id": "7w9vA-_VyyBn"
      },
      "source": [
        "# Stochastic Gradient Descent : SGD\n"
      ]
    },
    {
      "cell_type": "code",
      "metadata": {
        "colab": {
          "base_uri": "https://localhost:8080/",
          "height": 298
        },
        "id": "C4hahRYqyx4v",
        "outputId": "0e639782-6162-415e-cdd0-26940ecb225a"
      },
      "source": [
        "import numpy as np\n",
        "import matplotlib.pyplot as plt\n",
        "\n",
        "def f(x):\n",
        "  return 2*x + 10 + 2.3*np.random.rand((len(x)))\n",
        "\n",
        "def df(x):\n",
        "  return 2\n",
        "\n",
        "x = np.array([i for i in range(0,10)] , dtype=np.float64)\n",
        "y = f(x)\n",
        "x = np.reshape(x , (len(x),-1))\n",
        "x = np.hstack((x,np.ones((x.shape[0],1))))\n",
        "y = np.reshape(y,(-1,1))\n",
        "\n",
        "weight = np.array([1,1]  , dtype=np.float64)\n",
        "weight = np.reshape(weight,(-1,1))\n",
        "\n",
        "for i in range(0,10000):\n",
        "  weight[0] = weight[0] + (0.001*np.sum((y-x@weight).T * x.T[0]))\n",
        "  weight[1] = weight[1] + (0.001*np.sum((y-x@weight).T * x.T[1]))\n",
        "  #print((y-x@weight).T * x.T[0])\n",
        "\n",
        "print(\"weight : \" + str(weight.T))\n",
        "\n",
        "plt.plot(x.T[0] , y , '.r')\n",
        "plt.plot(x.T[0] , x@weight , '.b')\n",
        "plt.show()\n",
        "\n",
        "print(\"MSE : \" + str(np.sum((y-x@weight)**2)/x.shape[0]))"
      ],
      "execution_count": 161,
      "outputs": [
        {
          "output_type": "stream",
          "name": "stdout",
          "text": [
            "weight : [[ 2.03255846 11.12489679]]\n"
          ]
        },
        {
          "output_type": "display_data",
          "data": {
            "image/png": "[encoded data removed]",
            "text/plain": [
              "<Figure size 432x288 with 1 Axes>"
            ]
          },
          "metadata": {
            "needs_background": "light"
          }
        },
        {
          "output_type": "stream",
          "name": "stdout",
          "text": [
            "MSE : 0.3955267447847969\n"
          ]
        }
      ]
    }
  ]
}